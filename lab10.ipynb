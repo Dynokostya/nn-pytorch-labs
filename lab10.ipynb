{
 "cells": [
  {
   "cell_type": "markdown",
   "metadata": {},
   "source": [
    "# Компʼютерний практикум №10\n",
    "Виконав студент групи ЗК-41мп Гломозда Костянтин\n",
    "\n",
    "УДОСКОНАЛЕННЯ ЗГОРТКОВОЇ НЕЙРОННОЇ МЕРЕЖІ LENET5. BATCH NORMALIZATION"
   ]
  },
  {
   "cell_type": "markdown",
   "metadata": {},
   "source": [
    "Імпортуємо модулі"
   ]
  },
  {
   "cell_type": "code",
   "execution_count": 99,
   "metadata": {},
   "outputs": [
    {
     "data": {
      "text/plain": [
       "<torch._C.Generator at 0x72c892137510>"
      ]
     },
     "execution_count": 99,
     "metadata": {},
     "output_type": "execute_result"
    }
   ],
   "source": [
    "import torch\n",
    "import numpy as np\n",
    "\n",
    "\n",
    "seed = 0\n",
    "np.random.seed(seed)\n",
    "torch.manual_seed(seed)"
   ]
  },
  {
   "cell_type": "markdown",
   "metadata": {},
   "source": [
    "Створюємо нейронну мережу"
   ]
  },
  {
   "cell_type": "code",
   "execution_count": 100,
   "metadata": {},
   "outputs": [],
   "source": [
    "class SimpleNet(torch.nn.Module):\n",
    "    def __init__(self, activation):\n",
    "        super().__init__()\n",
    "        self.activation = activation\n",
    "        self.fc1 = torch.nn.Linear(1, 1, bias=False) # one neuron without bias\n",
    "        self.fc1.weight.data.fill_(1.) # init weight with 1\n",
    "        self.fc2 = torch.nn.Linear(1, 1, bias=False)\n",
    "        self.fc2.weight.data.fill_(1.)\n",
    "        self.fc3 = torch.nn.Linear(1, 1, bias=False)\n",
    "        self.fc3.weight.data.fill_(1.)\n",
    "    def forward(self, x):\n",
    "        x = self.activation(self.fc1(x))\n",
    "        x = self.activation(self.fc2(x))\n",
    "        x = self.activation(self.fc3(x))\n",
    "        return x\n",
    "    def get_fc1_grad_abs_value(self):\n",
    "        return torch.abs(self.fc1.weight.grad)\n",
    "    \n",
    "def get_fc1_grad_abs_value(net, x):\n",
    "    output = net.forward(x)\n",
    "    output.backward() # no loss function. Pretending that we want to minimize output\n",
    "    # In our case output is scalar, so we can calculate backward\n",
    "    fc1_grad = net.get_fc1_grad_abs_value().item()\n",
    "    net.zero_grad()\n",
    "    return fc1_grad"
   ]
  },
  {
   "cell_type": "markdown",
   "metadata": {},
   "source": [
    "Run experiment with different activations"
   ]
  },
  {
   "cell_type": "code",
   "execution_count": 101,
   "metadata": {},
   "outputs": [
    {
     "name": "stdout",
     "output_type": "stream",
     "text": [
      "Activation ELU: 0.5130936071489123\n",
      "Activation Hardtanh: 0.3301656365673989\n",
      "Activation LeakyReLU: 0.3912024556372764\n",
      "Activation LogSigmoid: 0.32004617214231984\n",
      "Activation PReLU: 0.43562054235598224\n",
      "Activation ReLU: 0.4092417423520237\n",
      "Activation ReLU6: 0.3963189114443958\n",
      "Activation RReLU: 0.36756316786555543\n",
      "Activation SELU: 0.6040668689087033\n",
      "Activation CELU: 0.4036044550893712\n",
      "Activation Sigmoid: 0.007264371898836544\n",
      "Activation Softplus: 0.24449487038655207\n",
      "Activation Softshrink: 0.2813682162761688\n",
      "Activation Softsign: 0.06567702983273194\n",
      "Activation Tanh: 0.1630371836863924\n",
      "Activation Tanhshrink: 0.00868728815764078\n",
      "Activation Hardshrink: 0.6825883448123932\n",
      "Best Activation is Hardshrink: 0.6825883448123932\n"
     ]
    }
   ],
   "source": [
    "activations = {\n",
    "    'ELU': torch.nn.ELU(),\n",
    "    'Hardtanh': torch.nn.Hardtanh(),\n",
    "    'LeakyReLU': torch.nn.LeakyReLU(),\n",
    "    'LogSigmoid': torch.nn.LogSigmoid(),\n",
    "    'PReLU': torch.nn.PReLU(),\n",
    "    'ReLU': torch.nn.ReLU(),\n",
    "    'ReLU6': torch.nn.ReLU6(),\n",
    "    'RReLU': torch.nn.RReLU(),\n",
    "    'SELU': torch.nn.SELU(),\n",
    "    'CELU': torch.nn.CELU(),\n",
    "    'Sigmoid': torch.nn.Sigmoid(),\n",
    "    'Softplus': torch.nn.Softplus(),\n",
    "    'Softshrink': torch.nn.Softshrink(),\n",
    "    'Softsign': torch.nn.Softsign(),\n",
    "    'Tanh': torch.nn.Tanh(),\n",
    "    'Tanhshrink': torch.nn.Tanhshrink(),\n",
    "    'Hardshrink': torch.nn.Hardshrink()\n",
    "}\n",
    "\n",
    "NUMBER_OF_EXPERIMENTS = 200\n",
    "means = {}\n",
    "for name, activation in activations.items():\n",
    "    net = SimpleNet(activation=activation)\n",
    "    \n",
    "    fc1_grads = []\n",
    "    for x in torch.randn((NUMBER_OF_EXPERIMENTS, 1)):\n",
    "        fc1_grads.append(get_fc1_grad_abs_value(net, x))\n",
    "        \n",
    "    means[name] = np.mean(fc1_grads)\n",
    "    print(f\"Activation {name}: {means[name]}\")\n",
    "\n",
    "maximum = max(means, key=means.get)\n",
    "print(f\"Best Activation is {maximum}: {means[maximum]}\")"
   ]
  },
  {
   "cell_type": "markdown",
   "metadata": {},
   "source": [
    "LeNet Model"
   ]
  },
  {
   "cell_type": "code",
   "execution_count": 102,
   "metadata": {},
   "outputs": [],
   "source": [
    "class LeNet5(torch.nn.Module):\n",
    "    def __init__(self,\n",
    "                 activation: torch.nn.Module = torch.nn.ReLU(),\n",
    "                 pooling: torch.nn.Module = torch.nn.AvgPool2d(kernel_size=2, stride=2),\n",
    "                 conv_size=5,\n",
    "                 use_batch_norm=False):\n",
    "        \n",
    "        super(LeNet5, self).__init__()\n",
    "        self.conv_size = conv_size\n",
    "        self.use_batch_norm = use_batch_norm\n",
    "        self.activation = activation\n",
    "        self.pooling = pooling\n",
    "        \n",
    "        if conv_size not in [3, 5]:\n",
    "            raise NotImplementedError(\"conv_size must be either 3 or 5\")\n",
    "        \n",
    "        self.conv1 = torch.nn.Conv2d(in_channels=3, out_channels=6, kernel_size=conv_size, padding=2 if conv_size == 5 else 1)\n",
    "        self.act1 = activation\n",
    "        self.bn1 = torch.nn.BatchNorm2d(num_features=6)\n",
    "        self.pool1 = pooling\n",
    "        \n",
    "        self.conv2 = torch.nn.Conv2d(in_channels=6, out_channels=16, kernel_size=conv_size, padding=0)\n",
    "        self.act2 = activation\n",
    "        self.bn2 = torch.nn.BatchNorm2d(num_features=16)\n",
    "        self.pool2 = pooling\n",
    "        \n",
    "        # Dynamically compute the size of the input to the fully connected layers\n",
    "        self._to_linear = None\n",
    "        self._get_conv_output_size()\n",
    "\n",
    "        self.fc1 = torch.nn.Linear(self._to_linear, 120)\n",
    "        self.act3 = activation\n",
    "        self.fc2 = torch.nn.Linear(120, 84)\n",
    "        self.act4 = activation\n",
    "        self.fc3 = torch.nn.Linear(84, 10)\n",
    "\n",
    "    def _get_conv_output_size(self):\n",
    "        with torch.no_grad():\n",
    "            dummy_input = torch.zeros(1, 3, 32, 32)  # CIFAR-10 input size\n",
    "            x = self.conv1(dummy_input)\n",
    "            x = self.pool1(x)\n",
    "            x = self.conv2(x)\n",
    "            x = self.pool2(x)\n",
    "            self._to_linear = x.view(1, -1).size(1)\n",
    "\n",
    "    def forward(self, x):\n",
    "        x = self.conv1(x)\n",
    "        x = self.act1(x)\n",
    "        if self.use_batch_norm:\n",
    "            x = self.bn1(x)\n",
    "        x = self.pool1(x)\n",
    "        \n",
    "        x = self.conv2(x)\n",
    "        x = self.act2(x)\n",
    "        if self.use_batch_norm:\n",
    "            x = self.bn2(x)\n",
    "        x = self.pool2(x)\n",
    "        \n",
    "        x = x.view(x.size(0), -1)\n",
    "        x = self.fc1(x)\n",
    "        x = self.act3(x)\n",
    "        x = self.fc2(x)\n",
    "        x = self.act4(x)\n",
    "        x = self.fc3(x)\n",
    "        return x"
   ]
  },
  {
   "cell_type": "markdown",
   "metadata": {},
   "source": [
    "Train function"
   ]
  },
  {
   "cell_type": "code",
   "execution_count": 103,
   "metadata": {},
   "outputs": [],
   "source": [
    "def train(net, X_train, y_train, X_test, y_test, epochs=30, batch_size=100):\n",
    "    device = torch.device('cuda' if torch.cuda.is_available() else 'cpu')\n",
    "    net = net.to(device)\n",
    "    loss = torch.nn.CrossEntropyLoss()\n",
    "    optimizer = torch.optim.Adam(net.parameters(), lr=1.0e-3)\n",
    "    \n",
    "    test_accuracy_history = []\n",
    "    test_loss_history = []\n",
    "    X_test = X_test.to(device)\n",
    "    y_test = y_test.to(device)\n",
    "    for _ in range(epochs):\n",
    "        order = np.random.permutation(len(X_train))\n",
    "        \n",
    "        for start_index in range(0, len(X_train), batch_size):\n",
    "            optimizer.zero_grad()\n",
    "            net.train()\n",
    "            batch_indexes = order[start_index:start_index+batch_size]\n",
    "            X_batch = X_train[batch_indexes].to(device)\n",
    "            y_batch = y_train[batch_indexes].to(device)\n",
    "            preds = net.forward(X_batch)\n",
    "            loss_value = loss(preds, y_batch)\n",
    "            loss_value.backward()\n",
    "            optimizer.step()\n",
    "        \n",
    "        net.eval()\n",
    "        test_preds = net.forward(X_test)\n",
    "        test_loss_history.append(loss(test_preds, y_test).data.cpu())\n",
    "        accuracy = (test_preds.argmax(dim=1) == y_test).float().mean().data.cpu()\n",
    "        test_accuracy_history.append(accuracy)\n",
    "    return test_accuracy_history, test_loss_history"
   ]
  },
  {
   "cell_type": "markdown",
   "metadata": {},
   "source": [
    "Export data"
   ]
  },
  {
   "cell_type": "code",
   "execution_count": 3,
   "metadata": {},
   "outputs": [
    {
     "name": "stdout",
     "output_type": "stream",
     "text": [
      "Files already downloaded and verified\n",
      "Files already downloaded and verified\n",
      "Training data shape: torch.Size([40000, 3, 32, 32]), torch.Size([40000])\n",
      "Validation data shape: torch.Size([10000, 3, 32, 32]), torch.Size([10000])\n",
      "Testing data shape: torch.Size([10000, 3, 32, 32]), torch.Size([10000])\n"
     ]
    }
   ],
   "source": [
    "import torchvision\n",
    "from torch.utils.data import DataLoader, random_split\n",
    "import torchvision.transforms as transforms\n",
    "\n",
    "transform = transforms.Compose([\n",
    "    transforms.ToTensor(),\n",
    "    transforms.Normalize((0.5, 0.5, 0.5), (0.5, 0.5, 0.5))\n",
    "])\n",
    "\n",
    "train_dataset = torchvision.datasets.CIFAR10(root='./data', train=True, download=True, transform=transform)\n",
    "test_dataset = torchvision.datasets.CIFAR10(root='./data', train=False, download=True, transform=transform)\n",
    "\n",
    "train_size = int(0.8 * len(train_dataset))\n",
    "val_size = len(train_dataset) - train_size\n",
    "train_dataset, val_dataset = random_split(train_dataset, [train_size, val_size])\n",
    "\n",
    "train_loader = DataLoader(train_dataset, batch_size=100, shuffle=True, num_workers=2)\n",
    "val_loader = DataLoader(val_dataset, batch_size=100, shuffle=False, num_workers=2)\n",
    "test_loader = DataLoader(test_dataset, batch_size=100, shuffle=False, num_workers=2)\n",
    "\n",
    "def extract_data(loader):\n",
    "    X, y = [], []\n",
    "    for data in loader:\n",
    "        inputs, labels = data\n",
    "        X.append(inputs)\n",
    "        y.append(labels)\n",
    "    return torch.cat(X), torch.cat(y)\n",
    "\n",
    "X_train, y_train = extract_data(train_loader)\n",
    "X_val, y_val = extract_data(val_loader)\n",
    "X_test, y_test = extract_data(test_loader)\n",
    "\n",
    "print(f\"Training data shape: {X_train.shape}, {y_train.shape}\")\n",
    "print(f\"Validation data shape: {X_val.shape}, {y_val.shape}\")\n",
    "print(f\"Testing data shape: {X_test.shape}, {y_test.shape}\")"
   ]
  },
  {
   "cell_type": "markdown",
   "metadata": {},
   "source": [
    "Train multiple networks"
   ]
  },
  {
   "cell_type": "code",
   "execution_count": 108,
   "metadata": {},
   "outputs": [
    {
     "name": "stdout",
     "output_type": "stream",
     "text": [
      "Training with activation ReLU and conv_size 3\n",
      "Final accuracy: 0.631\n",
      "Final loss: 2.194\n",
      "\n",
      "Training with activation LeakyReLU and conv_size 3\n",
      "Final accuracy: 0.635\n",
      "Final loss: 2.196\n",
      "\n",
      "Training with activation ELU and conv_size 3\n",
      "Final accuracy: 0.627\n",
      "Final loss: 2.053\n",
      "\n",
      "Training with activation ReLU and conv_size 5\n",
      "Final accuracy: 0.639\n",
      "Final loss: 1.828\n",
      "\n",
      "Training with activation LeakyReLU and conv_size 5\n",
      "Final accuracy: 0.637\n",
      "Final loss: 1.756\n",
      "\n",
      "Training with activation ELU and conv_size 5\n",
      "Final accuracy: 0.615\n",
      "Final loss: 1.730\n",
      "\n"
     ]
    }
   ],
   "source": [
    "activations = {\n",
    "    'ReLU': torch.nn.ReLU(),\n",
    "    'LeakyReLU': torch.nn.LeakyReLU(),\n",
    "    'ELU': torch.nn.ELU()\n",
    "}\n",
    "accuracies = {}\n",
    "losses = {}\n",
    "\n",
    "conv_sizes = [3, 5]\n",
    "for conv_size in conv_sizes:\n",
    "    for name, activation in activations.items():\n",
    "        print(f\"Training with activation {name} and conv_size {conv_size}\")\n",
    "        net = LeNet5(activation=activation, conv_size=conv_size, use_batch_norm=True)\n",
    "        accuracy_history, loss_history = train(net, X_train, y_train, X_test, y_test, epochs=20)\n",
    "        accuracies[(name, conv_size)] = accuracy_history\n",
    "        losses[(name, conv_size)] = loss_history\n",
    "        print(f\"Final accuracy: {accuracy_history[-1]:.3f}\")\n",
    "        print(f\"Final loss: {loss_history[-1]:.3f}\")\n",
    "        print()"
   ]
  },
  {
   "cell_type": "markdown",
   "metadata": {},
   "source": [
    "Найкраще з усіх показала себе LeakyReLU, conv_size=5"
   ]
  },
  {
   "cell_type": "markdown",
   "metadata": {},
   "source": [
    "Фільтри: В кожному згортковому шарі збільшено кількість фільтрів, що дозволяє отримувати більше інформації з зображень.\n",
    "\n",
    "Паддінг: Застосовано padding=1 для кожної згортки, щоб розмір зображення залишався незмінним після згортки.\n",
    "\n",
    "Batch Normalization: Додано нормалізацію для вхідних зображень та після кожного згорткового шару для кращої стабільності навчання.\n",
    "\n",
    "Dropout: Додано Dropout перед повнозв'язними шарами для боротьби з перенавчанням.\n",
    "\n",
    "L2-регуляризація: Використано параметр weight_decay для оптимізатора Adam, щоб додати \n",
    "\n",
    "L2-регуляризацію. Значення 1e-4 забезпечує хорошу балансування між регуляризацією та здатністю моделі навчатись."
   ]
  },
  {
   "cell_type": "code",
   "execution_count": 7,
   "metadata": {},
   "outputs": [
    {
     "name": "stdout",
     "output_type": "stream",
     "text": [
      "Final accuracy: 0.754\n",
      "Final loss: 0.953\n"
     ]
    }
   ],
   "source": [
    "import torch\n",
    "import numpy as np\n",
    "\n",
    "\n",
    "class ModifiedNet(torch.nn.Module):\n",
    "    def __init__(self):\n",
    "        super(ModifiedNet, self).__init__()\n",
    "        \n",
    "        # BatchNorm for input normalization (3 channels for RGB)\n",
    "        self.bn_input = torch.nn.BatchNorm2d(3)\n",
    "\n",
    "        # First conv block: Conv2d -> ReLU -> BatchNorm -> MaxPool\n",
    "        self.conv1 = torch.nn.Conv2d(in_channels=3, out_channels=16, kernel_size=3, padding=1)\n",
    "        self.bn1 = torch.nn.BatchNorm2d(16)\n",
    "        self.pool1 = torch.nn.MaxPool2d(kernel_size=2, stride=2)\n",
    "\n",
    "        # Second conv block: Conv2d -> ReLU -> BatchNorm -> MaxPool\n",
    "        self.conv2 = torch.nn.Conv2d(in_channels=16, out_channels=32, kernel_size=3, padding=1)\n",
    "        self.bn2 = torch.nn.BatchNorm2d(32)\n",
    "        self.pool2 = torch.nn.MaxPool2d(kernel_size=2, stride=2)\n",
    "\n",
    "        # Third conv block: Conv2d -> ReLU -> BatchNorm -> MaxPool\n",
    "        self.conv3 = torch.nn.Conv2d(in_channels=32, out_channels=64, kernel_size=3, padding=1)\n",
    "        self.bn3 = torch.nn.BatchNorm2d(64)\n",
    "        self.pool3 = torch.nn.MaxPool2d(kernel_size=2, stride=2)\n",
    "\n",
    "        # Fully connected layers\n",
    "        self.fc1 = torch.nn.Linear(64 * 4 * 4, 256)\n",
    "        self.bn_fc1 = torch.nn.BatchNorm1d(256)\n",
    "        self.fc2 = torch.nn.Linear(256, 64)\n",
    "        self.bn_fc2 = torch.nn.BatchNorm1d(64)\n",
    "        self.fc3 = torch.nn.Linear(64, 10)\n",
    "\n",
    "        # Activation functions\n",
    "        self.relu = torch.nn.ReLU()\n",
    "        self.tanh = torch.nn.Tanh()\n",
    "\n",
    "        # Dropout layers\n",
    "        self.dropout = torch.nn.Dropout(0.5)\n",
    "\n",
    "    def forward(self, x):\n",
    "        x = self.bn_input(x)\n",
    "        \n",
    "        x = self.conv1(x)\n",
    "        x = self.relu(x)\n",
    "        x = self.bn1(x)\n",
    "        x = self.pool1(x)\n",
    "        \n",
    "        x = self.conv2(x)\n",
    "        x = self.relu(x)\n",
    "        x = self.bn2(x)\n",
    "        x = self.pool2(x)\n",
    "        \n",
    "        x = self.conv3(x)\n",
    "        x = self.relu(x)\n",
    "        x = self.bn3(x)\n",
    "        x = self.pool3(x)\n",
    "        \n",
    "        x = x.view(x.size(0), -1)\n",
    "        \n",
    "        x = self.fc1(x)\n",
    "        x = self.tanh(x)\n",
    "        x = self.bn_fc1(x)\n",
    "        x = self.dropout(x)\n",
    "        \n",
    "        x = self.fc2(x)\n",
    "        x = self.tanh(x)\n",
    "        x = self.bn_fc2(x)\n",
    "        x = self.dropout(x)\n",
    "        \n",
    "        x = self.fc3(x)\n",
    "        return x\n",
    "\n",
    "def train_with_l2(net, X_train, y_train, X_test, y_test, epochs=30, batch_size=100, weight_decay=1e-4):\n",
    "    device = torch.device('cuda' if torch.cuda.is_available() else 'cpu')\n",
    "    net = net.to(device)\n",
    "    loss = torch.nn.CrossEntropyLoss()\n",
    "    \n",
    "    optimizer = torch.optim.Adam(net.parameters(), lr=1e-3, weight_decay=weight_decay)\n",
    "    \n",
    "    test_accuracy_history = []\n",
    "    test_loss_history = []\n",
    "    X_test = X_test.to(device)\n",
    "    y_test = y_test.to(device)\n",
    "    \n",
    "    for _ in range(epochs):\n",
    "        order = np.random.permutation(len(X_train))\n",
    "        \n",
    "        for start_index in range(0, len(X_train), batch_size):\n",
    "            optimizer.zero_grad()\n",
    "            net.train()\n",
    "            batch_indexes = order[start_index:start_index+batch_size]\n",
    "            X_batch = X_train[batch_indexes].to(device)\n",
    "            y_batch = y_train[batch_indexes].to(device)\n",
    "            preds = net.forward(X_batch)\n",
    "            loss_value = loss(preds, y_batch)\n",
    "            loss_value.backward()\n",
    "            optimizer.step()\n",
    "        \n",
    "        net.eval()\n",
    "        test_preds = net.forward(X_test)\n",
    "        test_loss_history.append(loss(test_preds, y_test).data.cpu())\n",
    "        accuracy = (test_preds.argmax(dim=1) == y_test).float().mean().data.cpu()\n",
    "        test_accuracy_history.append(accuracy)\n",
    "    return test_accuracy_history, test_loss_history\n",
    "\n",
    "# Training the model with the modified architecture\n",
    "net = ModifiedNet()\n",
    "accuracy_history, loss_history = train_with_l2(net, X_train, y_train, X_test, y_test, epochs=50, weight_decay=1e-4)\n",
    "print(f\"Final accuracy: {accuracy_history[-1]:.3f}\")\n",
    "print(f\"Final loss: {loss_history[-1]:.3f}\")"
   ]
  },
  {
   "cell_type": "markdown",
   "metadata": {},
   "source": [
    "Попередній кращий результат:\n",
    "\n",
    "Training with activation LeakyReLU and conv_size 5\n",
    "\n",
    "Final accuracy: 0.637\n",
    "Final loss: 1.756\n",
    "\n",
    "Можемо побачити що застосовані методи збільшили точність та зменшили помилку"
   ]
  },
  {
   "cell_type": "markdown",
   "metadata": {},
   "source": [
    "Plot results"
   ]
  },
  {
   "cell_type": "code",
   "execution_count": 12,
   "metadata": {},
   "outputs": [
    {
     "data": {
      "image/png": "[encoded data removed]",
      "text/plain": [
       "<Figure size 640x480 with 1 Axes>"
      ]
     },
     "metadata": {},
     "output_type": "display_data"
    },
    {
     "data": {
      "image/png": "[encoded data removed]",
      "text/plain": [
       "<Figure size 640x480 with 1 Axes>"
      ]
     },
     "metadata": {},
     "output_type": "display_data"
    }
   ],
   "source": [
    "import matplotlib.pyplot as plt\n",
    "\n",
    "plt.plot(accuracy_history, label='Test Accuracy')\n",
    "plt.title(\"Test Accuracy over Epochs\")\n",
    "plt.xlabel(\"Epochs\")\n",
    "plt.ylabel(\"Accuracy\")\n",
    "plt.legend()\n",
    "plt.show()\n",
    "\n",
    "plt.plot(loss_history, label='Test Loss')\n",
    "plt.title(\"Test Loss over Epochs\")\n",
    "plt.xlabel(\"Epochs\")\n",
    "plt.ylabel(\"Loss\")\n",
    "plt.legend()\n",
    "plt.show()"
   ]
  },
  {
   "cell_type": "markdown",
   "metadata": {},
   "source": [
    "Висновок - можемо застосувати меншу кількість епох для отримання кращих результатів"
   ]
  }
 ],
 "metadata": {
  "kernelspec": {
   "display_name": ".venv",
   "language": "python",
   "name": "python3"
  },
  "language_info": {
   "codemirror_mode": {
    "name": "ipython",
    "version": 3
   },
   "file_extension": ".py",
   "mimetype": "text/x-python",
   "name": "python",
   "nbconvert_exporter": "python",
   "pygments_lexer": "ipython3",
   "version": "3.12.3"
  }
 },
 "nbformat": 4,
 "nbformat_minor": 2
}
